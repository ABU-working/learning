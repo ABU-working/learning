{
 "cells": [
  {
   "cell_type": "code",
   "execution_count": 25,
   "metadata": {},
   "outputs": [
    {
     "name": "stdout",
     "output_type": "stream",
     "text": [
      "153  is a right number 370  is a right number 371  is a right number 407  is a right number test\n"
     ]
    }
   ],
   "source": [
    "import math\n",
    "#水仙花数\n",
    "\n",
    "\n",
    "for i in range(100,1000):\n",
    "    a=int(i//100)\n",
    "    b=int(i//10-a*10)\n",
    "    c=int(i-a*100-b*10)\n",
    "    if (i==a**3+b**3+c**3):\n",
    "        print(i,\" is a right number\",end=\" \")\n",
    "        \n",
    "print(\"test\")"
   ]
  },
  {
   "cell_type": "code",
   "execution_count": 1,
   "metadata": {},
   "outputs": [
    {
     "name": "stdout",
     "output_type": "stream",
     "text": [
      "153 is a right number\n",
      "370 is a right number\n",
      "371 is a right number\n",
      "407 is a right number\n"
     ]
    }
   ],
   "source": [
    "import math\n",
    "#水仙花数\n",
    "\n",
    "\n",
    "for i in range(100,1000):\n",
    "    a=int(i//100)\n",
    "    b=int(i//10-a*10)\n",
    "    c=int(i-a*100-b*10)\n",
    "    if (i==a**3+b**3+c**3):\n",
    "        print(\"%d is a right number\"%i)\n",
    "        \n"
   ]
  },
  {
   "cell_type": "code",
   "execution_count": 28,
   "metadata": {},
   "outputs": [
    {
     "name": "stdout",
     "output_type": "stream",
     "text": [
      "1024*768= 786432\n"
     ]
    }
   ],
   "source": [
    "print('1024*768=',1024*768)"
   ]
  },
  {
   "cell_type": "code",
   "execution_count": 36,
   "metadata": {},
   "outputs": [
    {
     "name": "stdout",
     "output_type": "stream",
     "text": [
      "153 is a right number\n",
      "370 is a right number\n",
      "371 is a right number\n",
      "407 is a right number\n"
     ]
    }
   ],
   "source": [
    "import math\n",
    "#水仙花数\n",
    "\n",
    "\n",
    "for i in range(100,1000):\n",
    "    a=int(i//100)\n",
    "    b=int(i//10-a*10)\n",
    "    c=int(i-a*100-b*10)\n",
    "    if (i==a**3+b**3+c**3):\n",
    "        print(str(i)+' is a right number')"
   ]
  },
  {
   "cell_type": "code",
   "execution_count": 18,
   "metadata": {},
   "outputs": [
    {
     "name": "stdout",
     "output_type": "stream",
     "text": [
      "6  is a right number.\n",
      "28  is a right number.\n",
      "496  is a right number.\n"
     ]
    }
   ],
   "source": [
    "import math\n",
    "#完全数 100,000以内\n",
    "\n",
    "\n",
    "sum=0\n",
    "\n",
    "for i in range(1,1000):\n",
    "    for j in range(1,int(i/2+1)):\n",
    "        if i%j==0:\n",
    "           sum+=j\n",
    "    if sum==i:\n",
    "        print(i,\" is a right number.\")\n",
    "        sum=0\n",
    "    else:\n",
    "        sum=0"
   ]
  },
  {
   "cell_type": "code",
   "execution_count": 19,
   "metadata": {},
   "outputs": [
    {
     "name": "stdout",
     "output_type": "stream",
     "text": [
      "6  is a right number.\n",
      "28  is a right number.\n",
      "496  is a right number.\n"
     ]
    }
   ],
   "source": [
    "for i in range(1,1000):\n",
    "    sum=0\n",
    "    for j in range(1,int(i/2+1)):\n",
    "        if i%j==0:\n",
    "           sum+=j\n",
    "    if sum==i:\n",
    "        print(i,\" is a right number.\")\n",
    "       "
   ]
  },
  {
   "cell_type": "code",
   "execution_count": 7,
   "metadata": {},
   "outputs": [
    {
     "name": "stdout",
     "output_type": "stream",
     "text": [
      "公鸡0只，母鸡25只，小鸡75只\n",
      "公鸡4只，母鸡18只，小鸡78只\n",
      "公鸡8只，母鸡11只，小鸡81只\n",
      "公鸡12只，母鸡4只，小鸡84只\n"
     ]
    }
   ],
   "source": [
    "#百钱百鸡\n",
    "#鸡翁一值钱五，鸡母一值钱三，鸡雏三值钱一。百钱买百鸡，问鸡翁、鸡母、鸡雏各几何？\n",
    "\n",
    "for x in range(0,21):\n",
    "    for y in range(-1,35):\n",
    "        if 5*x+3*y+(100-x-y)/3==100:\n",
    "            print(\"公鸡%d只，母鸡%d只，小鸡%d只\"%(x,y,100-x-y))"
   ]
  },
  {
   "cell_type": "code",
   "execution_count": 16,
   "metadata": {},
   "outputs": [
    {
     "name": "stdout",
     "output_type": "stream",
     "text": [
      "please input the first number:8\n",
      "please input the secend number:6\n",
      "a_1= 8\n",
      "a_2= 6\n",
      "a_3=14\n",
      "a_4=20\n",
      "a_5=34\n",
      "a_6=54\n",
      "a_7=88\n",
      "a_8=142\n",
      "a_9=230\n",
      "a_10=372\n",
      "a_11=602\n",
      "a_12=974\n",
      "a_13=1576\n",
      "a_14=2550\n",
      "a_15=4126\n",
      "a_16=6676\n",
      "a_17=10802\n",
      "a_18=17478\n",
      "a_19=28280\n",
      "a_20=45758\n",
      "a_21=74038\n",
      "a_22=119796\n",
      "a_23=193834\n",
      "a_24=313630\n",
      "a_25=507464\n",
      "a_26=821094\n",
      "a_27=1328558\n",
      "a_28=2149652\n",
      "a_29=3478210\n",
      "a_30=5627862\n",
      "a_31=9106072\n",
      "a_32=14733934\n",
      "a_33=23840006\n",
      "a_34=38573940\n",
      "a_35=62413946\n",
      "a_36=100987886\n",
      "a_37=163401832\n",
      "a_38=264389718\n",
      "a_39=427791550\n",
      "a_40=692181268\n",
      "a_41=1119972818\n",
      "a_42=1812154086\n",
      "a_43=2932126904\n",
      "a_44=4744280990\n",
      "a_45=7676407894\n",
      "a_46=12420688884\n",
      "a_47=20097096778\n",
      "a_48=32517785662\n",
      "a_49=52614882440\n",
      "a_50=85132668102\n"
     ]
    }
   ],
   "source": [
    "##斐波那契数列（Fibonacci sequence），又称黄金分割数列、因数学家列昂纳多·斐波那契（Leonardoda Fibonacci）以兔子繁殖为例子而引入，\n",
    "#故又称为“兔子数列”，指的是这样一个数列：1、1、2、3、5、8、13、21、34、\n",
    "#……在数学上，斐波纳契数列以如下被以递推的方法定义：F(1)=1，F(2)=1, F(n)=F(n-1)+F(n-2)（n>=3，n∈N*）\n",
    "#50项以内的数列\n",
    "\n",
    "a_1=int(input(\"please input the first number:\"))\n",
    "a_2=int(input(\"please input the secend number:\"))\n",
    "print(\"a_1=\",a_1)\n",
    "print(\"a_2=\",a_2)\n",
    "\n",
    "for i in range(3,51):\n",
    "    sum=a_1+a_2\n",
    "    a_1=a_2\n",
    "    a_2=sum\n",
    "    print(\"a_%d=%d\"%(i,a_2))"
   ]
  },
  {
   "cell_type": "code",
   "execution_count": 65,
   "metadata": {},
   "outputs": [
    {
     "name": "stdout",
     "output_type": "stream",
     "text": [
      "Let's start!:w\n",
      "The dice is 6 and 5.\n",
      "U R winer!\n"
     ]
    }
   ],
   "source": [
    "#craps赌博游戏\n",
    "\n",
    "#规则：玩家掷两个骰子，每个骰子点数为1-6，\n",
    "#如果第一次点数和为7或11，则玩家胜；如果点数和为2、3或12，则玩家输庄家胜。\n",
    "#若和为其他点数，则记录第一次的点数和，玩家继续掷骰子，\n",
    "#直至点数和等于第一次掷出的点数和则玩家胜；若掷出的点数和为7则庄家胜。\n",
    "\n",
    "import random\n",
    "\n",
    "\n",
    "a_1=random.randint(1,6)\n",
    "a_2=random.randint(1,6)\n",
    "key=input(\"Let's start!:\")\n",
    "if a_1+a_2==7 or a_1+a_2==11:\n",
    "    print(\"The dice is %d and %d.\"%(a_1,a_2))\n",
    "    print(\"U R winer!\")\n",
    "elif a_1+a_2==2 or a_1+a_2==3 or a_1+a_2==12:\n",
    "    print(\"The dice is %d and %d.\"%(a_1,a_2))\n",
    "    print(\"Master is winer!\")\n",
    "else :\n",
    "    print(\"The dice is %d and %d.\"%(a_1,a_2))\n",
    "    price=a_1+a_2\n",
    "    for i in range(1,100):        \n",
    "        #key=int(input(\"Countinue? Input 1:\")\n",
    "        #if j==1:\n",
    "        x=random.randint(1,6)\n",
    "        y=random.randint(1,6)\n",
    "        if price==x+y:\n",
    "            print(\"The dice is %d and %d.\"%(x,y))\n",
    "            print(\"U R winer!\")\n",
    "            break\n",
    "        elif x+y==7:\n",
    "            print(\"The dice is %d and %d.\"%(x,y))\n",
    "            print(\"Master is winer!\")\n",
    "            break\n",
    "                "
   ]
  },
  {
   "cell_type": "code",
   "execution_count": null,
   "metadata": {},
   "outputs": [],
   "source": []
  },
  {
   "cell_type": "code",
   "execution_count": null,
   "metadata": {},
   "outputs": [],
   "source": []
  }
 ],
 "metadata": {
  "kernelspec": {
   "display_name": "Python 3",
   "language": "python",
   "name": "python3"
  },
  "language_info": {
   "codemirror_mode": {
    "name": "ipython",
    "version": 3
   },
   "file_extension": ".py",
   "mimetype": "text/x-python",
   "name": "python",
   "nbconvert_exporter": "python",
   "pygments_lexer": "ipython3",
   "version": "3.7.4"
  }
 },
 "nbformat": 4,
 "nbformat_minor": 2
}
